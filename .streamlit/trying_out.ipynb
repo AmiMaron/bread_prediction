{
 "cells": [
  {
   "cell_type": "code",
   "execution_count": 1,
   "metadata": {},
   "outputs": [
    {
     "name": "stdout",
     "output_type": "stream",
     "text": [
      "{datetime.date(2021, 1, 1): \"Jour de l'an\", datetime.date(2021, 5, 1): 'Fête du Travail', datetime.date(2021, 5, 8): 'Fête de la Victoire', datetime.date(2021, 7, 14): 'Fête nationale', datetime.date(2021, 11, 11): 'Armistice', datetime.date(2021, 4, 5): 'Lundi de Pâques', datetime.date(2021, 5, 24): 'Lundi de Pentecôte', datetime.date(2021, 5, 13): 'Ascension', datetime.date(2021, 8, 15): 'Assomption', datetime.date(2021, 11, 1): 'Toussaint', datetime.date(2021, 12, 25): 'Noël', datetime.date(2023, 1, 1): \"Jour de l'an\", datetime.date(2023, 5, 1): 'Fête du Travail', datetime.date(2023, 5, 8): 'Fête de la Victoire', datetime.date(2023, 7, 14): 'Fête nationale', datetime.date(2023, 11, 11): 'Armistice', datetime.date(2023, 4, 10): 'Lundi de Pâques', datetime.date(2023, 5, 29): 'Lundi de Pentecôte', datetime.date(2023, 5, 18): 'Ascension', datetime.date(2023, 8, 15): 'Assomption', datetime.date(2023, 11, 1): 'Toussaint', datetime.date(2023, 12, 25): 'Noël'}\n",
      "True\n",
      "2024-12-18\n"
     ]
    },
    {
     "ename": "ModuleNotFoundError",
     "evalue": "No module named 'data'",
     "output_type": "error",
     "traceback": [
      "\u001b[1;31m---------------------------------------------------------------------------\u001b[0m",
      "\u001b[1;31mModuleNotFoundError\u001b[0m                       Traceback (most recent call last)",
      "Cell \u001b[1;32mIn[1], line 11\u001b[0m\n\u001b[0;32m      8\u001b[0m \u001b[38;5;28mprint\u001b[39m(\u001b[38;5;124m\"\u001b[39m\u001b[38;5;124m2024-07-14\u001b[39m\u001b[38;5;124m\"\u001b[39m \u001b[38;5;129;01min\u001b[39;00m french_holidays)  \u001b[38;5;66;03m# True for Bastille Day\u001b[39;00m\n\u001b[0;32m      9\u001b[0m \u001b[38;5;28mprint\u001b[39m(date\u001b[38;5;241m.\u001b[39mtoday())\n\u001b[1;32m---> 11\u001b[0m \u001b[38;5;28;01mfrom\u001b[39;00m \u001b[38;5;21;01mdata\u001b[39;00m\u001b[38;5;21;01m.\u001b[39;00m\u001b[38;5;21;01mholiday_impact_generation\u001b[39;00m \u001b[38;5;28;01mimport\u001b[39;00m create_holiday_dict, process_single_date\n\u001b[0;32m     13\u001b[0m try_single_date \u001b[38;5;241m=\u001b[39m \u001b[38;5;124m\"\u001b[39m\u001b[38;5;124m2024-07-14\u001b[39m\u001b[38;5;124m\"\u001b[39m\n\u001b[0;32m     14\u001b[0m a \u001b[38;5;241m=\u001b[39m process_single_date(try_single_date)\n",
      "\u001b[1;31mModuleNotFoundError\u001b[0m: No module named 'data'"
     ]
    }
   ],
   "source": [
    "import holidays\n",
    "from datetime import date\n",
    "# Get French holidays for 2024\n",
    "french_holidays = holidays.FR(years=[2021, 2023])\n",
    "\n",
    "print(french_holidays)\n",
    "# Example: Check if a date is a holiday\n",
    "print(\"2024-07-14\" in french_holidays)  # True for Bastille Day\n",
    "print(date.today())\n",
    "\n",
    "from data.holiday_impact_generation import create_holiday_dict, process_single_date\n",
    "\n",
    "try_single_date = \"2024-07-14\"\n",
    "a = process_single_date(try_single_date)\n",
    "print(a)"
   ]
  }
 ],
 "metadata": {
  "kernelspec": {
   "display_name": "Python 3",
   "language": "python",
   "name": "python3"
  },
  "language_info": {
   "codemirror_mode": {
    "name": "ipython",
    "version": 3
   },
   "file_extension": ".py",
   "mimetype": "text/x-python",
   "name": "python",
   "nbconvert_exporter": "python",
   "pygments_lexer": "ipython3",
   "version": "3.10.11"
  }
 },
 "nbformat": 4,
 "nbformat_minor": 2
}
