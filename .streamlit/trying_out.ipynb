{
 "cells": [
  {
   "cell_type": "code",
   "execution_count": 7,
   "metadata": {},
   "outputs": [
    {
     "name": "stdout",
     "output_type": "stream",
     "text": [
      "{datetime.date(2021, 1, 1): \"Jour de l'an\", datetime.date(2021, 5, 1): 'Fête du Travail', datetime.date(2021, 5, 8): 'Fête de la Victoire', datetime.date(2021, 7, 14): 'Fête nationale', datetime.date(2021, 11, 11): 'Armistice', datetime.date(2021, 4, 5): 'Lundi de Pâques', datetime.date(2021, 5, 24): 'Lundi de Pentecôte', datetime.date(2021, 5, 13): 'Ascension', datetime.date(2021, 8, 15): 'Assomption', datetime.date(2021, 11, 1): 'Toussaint', datetime.date(2021, 12, 25): 'Noël', datetime.date(2023, 1, 1): \"Jour de l'an\", datetime.date(2023, 5, 1): 'Fête du Travail', datetime.date(2023, 5, 8): 'Fête de la Victoire', datetime.date(2023, 7, 14): 'Fête nationale', datetime.date(2023, 11, 11): 'Armistice', datetime.date(2023, 4, 10): 'Lundi de Pâques', datetime.date(2023, 5, 29): 'Lundi de Pentecôte', datetime.date(2023, 5, 18): 'Ascension', datetime.date(2023, 8, 15): 'Assomption', datetime.date(2023, 11, 1): 'Toussaint', datetime.date(2023, 12, 25): 'Noël'}\n",
      "True\n",
      "2024-12-16\n"
     ]
    }
   ],
   "source": [
    "import holidays\n",
    "from datetime import date\n",
    "# Get French holidays for 2024\n",
    "french_holidays = holidays.FR(years=[2021, 2023])\n",
    "\n",
    "print(french_holidays)\n",
    "# Example: Check if a date is a holiday\n",
    "print(\"2024-07-14\" in french_holidays)  # True for Bastille Day\n",
    "print(date.today())\n",
    "\n",
    "\n"
   ]
  }
 ],
 "metadata": {
  "kernelspec": {
   "display_name": "Python 3",
   "language": "python",
   "name": "python3"
  },
  "language_info": {
   "codemirror_mode": {
    "name": "ipython",
    "version": 3
   },
   "file_extension": ".py",
   "mimetype": "text/x-python",
   "name": "python",
   "nbconvert_exporter": "python",
   "pygments_lexer": "ipython3",
   "version": "3.10.11"
  }
 },
 "nbformat": 4,
 "nbformat_minor": 2
}
